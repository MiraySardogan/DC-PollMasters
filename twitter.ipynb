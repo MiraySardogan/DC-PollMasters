{
 "cells": [
  {
   "cell_type": "code",
   "execution_count": 33,
   "metadata": {},
   "outputs": [
    {
     "name": "stdout",
     "output_type": "stream",
     "text": [
      "c:\\Users\\ReDI\\AppData\\Local\\Programs\\Python\\Python312\\python.exe\n"
     ]
    }
   ],
   "source": [
    "import sys\n",
    "print(sys.executable)"
   ]
  },
  {
   "cell_type": "code",
   "execution_count": 34,
   "metadata": {},
   "outputs": [
    {
     "name": "stdout",
     "output_type": "stream",
     "text": [
      "2.2.3\n"
     ]
    }
   ],
   "source": [
    "import pandas as pd\n",
    "print(pd.__version__)"
   ]
  },
  {
   "cell_type": "code",
   "execution_count": 35,
   "metadata": {},
   "outputs": [],
   "source": [
    "trump_df = pd.read_csv(\"trump.csv\",lineterminator='\\n')\n"
   ]
  },
  {
   "cell_type": "code",
   "execution_count": 36,
   "metadata": {},
   "outputs": [
    {
     "data": {
      "text/plain": [
       "(970919, 21)"
      ]
     },
     "execution_count": 36,
     "metadata": {},
     "output_type": "execute_result"
    }
   ],
   "source": [
    "trump_df.shape"
   ]
  },
  {
   "cell_type": "code",
   "execution_count": 37,
   "metadata": {},
   "outputs": [
    {
     "name": "stdout",
     "output_type": "stream",
     "text": [
      "<class 'pandas.core.frame.DataFrame'>\n",
      "RangeIndex: 970919 entries, 0 to 970918\n",
      "Data columns (total 21 columns):\n",
      " #   Column                Non-Null Count   Dtype  \n",
      "---  ------                --------------   -----  \n",
      " 0   created_at            970919 non-null  object \n",
      " 1   tweet_id              970919 non-null  float64\n",
      " 2   tweet                 970919 non-null  object \n",
      " 3   likes                 970919 non-null  float64\n",
      " 4   retweet_count         970919 non-null  float64\n",
      " 5   source                970043 non-null  object \n",
      " 6   user_id               970919 non-null  float64\n",
      " 7   user_name             970897 non-null  object \n",
      " 8   user_screen_name      970919 non-null  object \n",
      " 9   user_description      869651 non-null  object \n",
      " 10  user_join_date        970919 non-null  object \n",
      " 11  user_followers_count  970919 non-null  float64\n",
      " 12  user_location         675957 non-null  object \n",
      " 13  lat                   445719 non-null  float64\n",
      " 14  long                  445719 non-null  float64\n",
      " 15  city                  227187 non-null  object \n",
      " 16  country               442748 non-null  object \n",
      " 17  continent             442765 non-null  object \n",
      " 18  state                 320620 non-null  object \n",
      " 19  state_code            300425 non-null  object \n",
      " 20  collected_at          970919 non-null  object \n",
      "dtypes: float64(7), object(14)\n",
      "memory usage: 155.6+ MB\n"
     ]
    }
   ],
   "source": [
    "trump_df.info()"
   ]
  },
  {
   "cell_type": "code",
   "execution_count": 38,
   "metadata": {},
   "outputs": [
    {
     "data": {
      "text/html": [
       "<div>\n",
       "<style scoped>\n",
       "    .dataframe tbody tr th:only-of-type {\n",
       "        vertical-align: middle;\n",
       "    }\n",
       "\n",
       "    .dataframe tbody tr th {\n",
       "        vertical-align: top;\n",
       "    }\n",
       "\n",
       "    .dataframe thead th {\n",
       "        text-align: right;\n",
       "    }\n",
       "</style>\n",
       "<table border=\"1\" class=\"dataframe\">\n",
       "  <thead>\n",
       "    <tr style=\"text-align: right;\">\n",
       "      <th></th>\n",
       "      <th>created_at</th>\n",
       "      <th>tweet_id</th>\n",
       "      <th>tweet</th>\n",
       "      <th>likes</th>\n",
       "      <th>retweet_count</th>\n",
       "      <th>source</th>\n",
       "      <th>user_id</th>\n",
       "      <th>user_name</th>\n",
       "      <th>user_screen_name</th>\n",
       "      <th>user_description</th>\n",
       "      <th>...</th>\n",
       "      <th>user_followers_count</th>\n",
       "      <th>user_location</th>\n",
       "      <th>lat</th>\n",
       "      <th>long</th>\n",
       "      <th>city</th>\n",
       "      <th>country</th>\n",
       "      <th>continent</th>\n",
       "      <th>state</th>\n",
       "      <th>state_code</th>\n",
       "      <th>collected_at</th>\n",
       "    </tr>\n",
       "  </thead>\n",
       "  <tbody>\n",
       "    <tr>\n",
       "      <th>0</th>\n",
       "      <td>2020-10-15 00:00:01</td>\n",
       "      <td>1.316529e+18</td>\n",
       "      <td>#Elecciones2020 | En #Florida: #JoeBiden dice ...</td>\n",
       "      <td>0.0</td>\n",
       "      <td>0.0</td>\n",
       "      <td>TweetDeck</td>\n",
       "      <td>3.606665e+08</td>\n",
       "      <td>El Sol Latino News</td>\n",
       "      <td>elsollatinonews</td>\n",
       "      <td>🌐 Noticias de interés para latinos de la costa...</td>\n",
       "      <td>...</td>\n",
       "      <td>1860.0</td>\n",
       "      <td>Philadelphia, PA / Miami, FL</td>\n",
       "      <td>25.774270</td>\n",
       "      <td>-80.193660</td>\n",
       "      <td>NaN</td>\n",
       "      <td>United States of America</td>\n",
       "      <td>North America</td>\n",
       "      <td>Florida</td>\n",
       "      <td>FL</td>\n",
       "      <td>2020-10-21 00:00:00</td>\n",
       "    </tr>\n",
       "    <tr>\n",
       "      <th>1</th>\n",
       "      <td>2020-10-15 00:00:01</td>\n",
       "      <td>1.316529e+18</td>\n",
       "      <td>Usa 2020, Trump contro Facebook e Twitter: cop...</td>\n",
       "      <td>26.0</td>\n",
       "      <td>9.0</td>\n",
       "      <td>Social Mediaset</td>\n",
       "      <td>3.316176e+08</td>\n",
       "      <td>Tgcom24</td>\n",
       "      <td>MediasetTgcom24</td>\n",
       "      <td>Profilo ufficiale di Tgcom24: tutte le notizie...</td>\n",
       "      <td>...</td>\n",
       "      <td>1067661.0</td>\n",
       "      <td>NaN</td>\n",
       "      <td>NaN</td>\n",
       "      <td>NaN</td>\n",
       "      <td>NaN</td>\n",
       "      <td>NaN</td>\n",
       "      <td>NaN</td>\n",
       "      <td>NaN</td>\n",
       "      <td>NaN</td>\n",
       "      <td>2020-10-21 00:00:00.373216530</td>\n",
       "    </tr>\n",
       "    <tr>\n",
       "      <th>2</th>\n",
       "      <td>2020-10-15 00:00:02</td>\n",
       "      <td>1.316529e+18</td>\n",
       "      <td>#Trump: As a student I used to hear for years,...</td>\n",
       "      <td>2.0</td>\n",
       "      <td>1.0</td>\n",
       "      <td>Twitter Web App</td>\n",
       "      <td>8.436472e+06</td>\n",
       "      <td>snarke</td>\n",
       "      <td>snarke</td>\n",
       "      <td>Will mock for food! Freelance writer, blogger,...</td>\n",
       "      <td>...</td>\n",
       "      <td>1185.0</td>\n",
       "      <td>Portland</td>\n",
       "      <td>45.520247</td>\n",
       "      <td>-122.674195</td>\n",
       "      <td>Portland</td>\n",
       "      <td>United States of America</td>\n",
       "      <td>North America</td>\n",
       "      <td>Oregon</td>\n",
       "      <td>OR</td>\n",
       "      <td>2020-10-21 00:00:00.746433060</td>\n",
       "    </tr>\n",
       "    <tr>\n",
       "      <th>3</th>\n",
       "      <td>2020-10-15 00:00:02</td>\n",
       "      <td>1.316529e+18</td>\n",
       "      <td>2 hours since last tweet from #Trump! Maybe he...</td>\n",
       "      <td>0.0</td>\n",
       "      <td>0.0</td>\n",
       "      <td>Trumpytweeter</td>\n",
       "      <td>8.283556e+17</td>\n",
       "      <td>Trumpytweeter</td>\n",
       "      <td>trumpytweeter</td>\n",
       "      <td>If he doesn't tweet for some time, should we b...</td>\n",
       "      <td>...</td>\n",
       "      <td>32.0</td>\n",
       "      <td>NaN</td>\n",
       "      <td>NaN</td>\n",
       "      <td>NaN</td>\n",
       "      <td>NaN</td>\n",
       "      <td>NaN</td>\n",
       "      <td>NaN</td>\n",
       "      <td>NaN</td>\n",
       "      <td>NaN</td>\n",
       "      <td>2020-10-21 00:00:01.119649591</td>\n",
       "    </tr>\n",
       "    <tr>\n",
       "      <th>4</th>\n",
       "      <td>2020-10-15 00:00:08</td>\n",
       "      <td>1.316529e+18</td>\n",
       "      <td>You get a tie! And you get a tie! #Trump ‘s ra...</td>\n",
       "      <td>4.0</td>\n",
       "      <td>3.0</td>\n",
       "      <td>Twitter for iPhone</td>\n",
       "      <td>4.741380e+07</td>\n",
       "      <td>Rana Abtar - رنا أبتر</td>\n",
       "      <td>Ranaabtar</td>\n",
       "      <td>Washington Correspondent, Lebanese-American ,c...</td>\n",
       "      <td>...</td>\n",
       "      <td>5393.0</td>\n",
       "      <td>Washington DC</td>\n",
       "      <td>38.894992</td>\n",
       "      <td>-77.036558</td>\n",
       "      <td>Washington</td>\n",
       "      <td>United States of America</td>\n",
       "      <td>North America</td>\n",
       "      <td>District of Columbia</td>\n",
       "      <td>DC</td>\n",
       "      <td>2020-10-21 00:00:01.492866121</td>\n",
       "    </tr>\n",
       "  </tbody>\n",
       "</table>\n",
       "<p>5 rows × 21 columns</p>\n",
       "</div>"
      ],
      "text/plain": [
       "            created_at      tweet_id  \\\n",
       "0  2020-10-15 00:00:01  1.316529e+18   \n",
       "1  2020-10-15 00:00:01  1.316529e+18   \n",
       "2  2020-10-15 00:00:02  1.316529e+18   \n",
       "3  2020-10-15 00:00:02  1.316529e+18   \n",
       "4  2020-10-15 00:00:08  1.316529e+18   \n",
       "\n",
       "                                               tweet  likes  retweet_count  \\\n",
       "0  #Elecciones2020 | En #Florida: #JoeBiden dice ...    0.0            0.0   \n",
       "1  Usa 2020, Trump contro Facebook e Twitter: cop...   26.0            9.0   \n",
       "2  #Trump: As a student I used to hear for years,...    2.0            1.0   \n",
       "3  2 hours since last tweet from #Trump! Maybe he...    0.0            0.0   \n",
       "4  You get a tie! And you get a tie! #Trump ‘s ra...    4.0            3.0   \n",
       "\n",
       "               source       user_id              user_name user_screen_name  \\\n",
       "0           TweetDeck  3.606665e+08     El Sol Latino News  elsollatinonews   \n",
       "1    Social Mediaset   3.316176e+08                Tgcom24  MediasetTgcom24   \n",
       "2     Twitter Web App  8.436472e+06                 snarke           snarke   \n",
       "3       Trumpytweeter  8.283556e+17          Trumpytweeter    trumpytweeter   \n",
       "4  Twitter for iPhone  4.741380e+07  Rana Abtar - رنا أبتر        Ranaabtar   \n",
       "\n",
       "                                    user_description  ...  \\\n",
       "0  🌐 Noticias de interés para latinos de la costa...  ...   \n",
       "1  Profilo ufficiale di Tgcom24: tutte le notizie...  ...   \n",
       "2  Will mock for food! Freelance writer, blogger,...  ...   \n",
       "3  If he doesn't tweet for some time, should we b...  ...   \n",
       "4  Washington Correspondent, Lebanese-American ,c...  ...   \n",
       "\n",
       "  user_followers_count                 user_location        lat        long  \\\n",
       "0               1860.0  Philadelphia, PA / Miami, FL  25.774270  -80.193660   \n",
       "1            1067661.0                           NaN        NaN         NaN   \n",
       "2               1185.0                      Portland  45.520247 -122.674195   \n",
       "3                 32.0                           NaN        NaN         NaN   \n",
       "4               5393.0                 Washington DC  38.894992  -77.036558   \n",
       "\n",
       "         city                   country      continent                 state  \\\n",
       "0         NaN  United States of America  North America               Florida   \n",
       "1         NaN                       NaN            NaN                   NaN   \n",
       "2    Portland  United States of America  North America                Oregon   \n",
       "3         NaN                       NaN            NaN                   NaN   \n",
       "4  Washington  United States of America  North America  District of Columbia   \n",
       "\n",
       "  state_code                   collected_at  \n",
       "0         FL            2020-10-21 00:00:00  \n",
       "1        NaN  2020-10-21 00:00:00.373216530  \n",
       "2         OR  2020-10-21 00:00:00.746433060  \n",
       "3        NaN  2020-10-21 00:00:01.119649591  \n",
       "4         DC  2020-10-21 00:00:01.492866121  \n",
       "\n",
       "[5 rows x 21 columns]"
      ]
     },
     "execution_count": 38,
     "metadata": {},
     "output_type": "execute_result"
    }
   ],
   "source": [
    "trump_df.head()"
   ]
  },
  {
   "cell_type": "code",
   "execution_count": 39,
   "metadata": {},
   "outputs": [
    {
     "data": {
      "text/plain": [
       "Index(['created_at', 'tweet_id', 'tweet', 'likes', 'retweet_count', 'source',\n",
       "       'user_id', 'user_name', 'user_screen_name', 'user_description',\n",
       "       'user_join_date', 'user_followers_count', 'user_location', 'lat',\n",
       "       'long', 'city', 'country', 'continent', 'state', 'state_code',\n",
       "       'collected_at'],\n",
       "      dtype='object')"
      ]
     },
     "execution_count": 39,
     "metadata": {},
     "output_type": "execute_result"
    }
   ],
   "source": [
    "trump_df.columns"
   ]
  },
  {
   "cell_type": "code",
   "execution_count": 40,
   "metadata": {},
   "outputs": [],
   "source": [
    "trump_df.drop(['tweet_id', 'source', 'city',\n",
    "       'user_id', 'user_name', 'user_screen_name', 'user_description',\n",
    "       'user_join_date','long','lat'], axis=1,inplace=True)"
   ]
  },
  {
   "cell_type": "code",
   "execution_count": 41,
   "metadata": {},
   "outputs": [
    {
     "data": {
      "text/html": [
       "<div>\n",
       "<style scoped>\n",
       "    .dataframe tbody tr th:only-of-type {\n",
       "        vertical-align: middle;\n",
       "    }\n",
       "\n",
       "    .dataframe tbody tr th {\n",
       "        vertical-align: top;\n",
       "    }\n",
       "\n",
       "    .dataframe thead th {\n",
       "        text-align: right;\n",
       "    }\n",
       "</style>\n",
       "<table border=\"1\" class=\"dataframe\">\n",
       "  <thead>\n",
       "    <tr style=\"text-align: right;\">\n",
       "      <th></th>\n",
       "      <th>likes</th>\n",
       "      <th>retweet_count</th>\n",
       "      <th>user_followers_count</th>\n",
       "    </tr>\n",
       "  </thead>\n",
       "  <tbody>\n",
       "    <tr>\n",
       "      <th>count</th>\n",
       "      <td>970919.000000</td>\n",
       "      <td>970919.000000</td>\n",
       "      <td>9.709190e+05</td>\n",
       "    </tr>\n",
       "    <tr>\n",
       "      <th>mean</th>\n",
       "      <td>7.477011</td>\n",
       "      <td>1.698500</td>\n",
       "      <td>2.260357e+04</td>\n",
       "    </tr>\n",
       "    <tr>\n",
       "      <th>std</th>\n",
       "      <td>158.058117</td>\n",
       "      <td>40.028419</td>\n",
       "      <td>3.042152e+05</td>\n",
       "    </tr>\n",
       "    <tr>\n",
       "      <th>min</th>\n",
       "      <td>0.000000</td>\n",
       "      <td>0.000000</td>\n",
       "      <td>0.000000e+00</td>\n",
       "    </tr>\n",
       "    <tr>\n",
       "      <th>25%</th>\n",
       "      <td>0.000000</td>\n",
       "      <td>0.000000</td>\n",
       "      <td>7.700000e+01</td>\n",
       "    </tr>\n",
       "    <tr>\n",
       "      <th>50%</th>\n",
       "      <td>0.000000</td>\n",
       "      <td>0.000000</td>\n",
       "      <td>4.410000e+02</td>\n",
       "    </tr>\n",
       "    <tr>\n",
       "      <th>75%</th>\n",
       "      <td>1.000000</td>\n",
       "      <td>0.000000</td>\n",
       "      <td>2.066000e+03</td>\n",
       "    </tr>\n",
       "    <tr>\n",
       "      <th>max</th>\n",
       "      <td>74084.000000</td>\n",
       "      <td>20491.000000</td>\n",
       "      <td>1.911533e+07</td>\n",
       "    </tr>\n",
       "  </tbody>\n",
       "</table>\n",
       "</div>"
      ],
      "text/plain": [
       "               likes  retweet_count  user_followers_count\n",
       "count  970919.000000  970919.000000          9.709190e+05\n",
       "mean        7.477011       1.698500          2.260357e+04\n",
       "std       158.058117      40.028419          3.042152e+05\n",
       "min         0.000000       0.000000          0.000000e+00\n",
       "25%         0.000000       0.000000          7.700000e+01\n",
       "50%         0.000000       0.000000          4.410000e+02\n",
       "75%         1.000000       0.000000          2.066000e+03\n",
       "max     74084.000000   20491.000000          1.911533e+07"
      ]
     },
     "execution_count": 41,
     "metadata": {},
     "output_type": "execute_result"
    }
   ],
   "source": [
    "trump_df.describe()"
   ]
  },
  {
   "cell_type": "code",
   "execution_count": 42,
   "metadata": {},
   "outputs": [
    {
     "data": {
      "text/plain": [
       "np.int64(0)"
      ]
     },
     "execution_count": 42,
     "metadata": {},
     "output_type": "execute_result"
    }
   ],
   "source": [
    "trump_df.duplicated().sum()\n",
    "#no duplicate rows in DataFrame trump_df"
   ]
  },
  {
   "cell_type": "code",
   "execution_count": 43,
   "metadata": {},
   "outputs": [
    {
     "data": {
      "text/plain": [
       "created_at                   0\n",
       "tweet                        0\n",
       "likes                        0\n",
       "retweet_count                0\n",
       "user_followers_count         0\n",
       "user_location           294962\n",
       "country                 528171\n",
       "continent               528154\n",
       "state                   650299\n",
       "state_code              670494\n",
       "collected_at                 0\n",
       "dtype: int64"
      ]
     },
     "execution_count": 43,
     "metadata": {},
     "output_type": "execute_result"
    }
   ],
   "source": [
    "trump_df.isnull().sum()\n",
    "#NaN values for each column"
   ]
  },
  {
   "cell_type": "code",
   "execution_count": 44,
   "metadata": {},
   "outputs": [
    {
     "data": {
      "text/plain": [
       "array(['North America', nan, 'Europe', 'Oceania', 'Africa',\n",
       "       'South America', 'Asia', 'Antarctica'], dtype=object)"
      ]
     },
     "execution_count": 44,
     "metadata": {},
     "output_type": "execute_result"
    }
   ],
   "source": [
    "trump_df['continent'].unique()"
   ]
  },
  {
   "cell_type": "code",
   "execution_count": 45,
   "metadata": {},
   "outputs": [
    {
     "data": {
      "text/plain": [
       "array(['United States of America', nan, 'United Kingdom', 'Germany',\n",
       "       'United States', 'Australia', 'Costa Rica', 'Barbados', 'Cameroon',\n",
       "       'The Netherlands', 'Mexico', 'Canada', 'France', 'Peru',\n",
       "       'Argentina', 'South Korea', 'Finland', 'Mongolia', 'India',\n",
       "       'Japan', 'Turkey', 'Switzerland', 'Iran', 'Portugal', 'Ireland',\n",
       "       'Russia', 'Greece', 'Egypt', 'Ecuador', 'Colombia', 'Sri Lanka',\n",
       "       'Italy', 'China', 'Malaysia', 'Indonesia', 'Venezuela', 'Thailand',\n",
       "       'Sweden', 'Nepal', 'Bangladesh', 'Philippines',\n",
       "       'Dominican Republic', 'New Zealand', 'Chile', 'Honduras',\n",
       "       'Azerbaijan', 'Georgia', 'Spain', 'Cyprus', 'Morocco',\n",
       "       'Netherlands', 'Saudi Arabia', 'Norway', 'Singapore', 'Cuba',\n",
       "       'Niger', 'Hungary', 'Greenland', 'United Arab Emirates', 'Brazil',\n",
       "       'Uganda', 'Guatemala', 'Pakistan', 'Taiwan', 'Qatar',\n",
       "       'Afghanistan', 'South Africa', 'Nigeria', 'Slovakia', 'Guyana',\n",
       "       'Kenya', 'Iraq', 'Denmark', 'Uruguay', 'Belgium', 'Lebanon',\n",
       "       'Austria', 'Liechtenstein', 'Tunisia', 'Bosnia and Herzegovina',\n",
       "       'Iceland', 'Sudan', 'Czech Republic', 'Malta', 'Poland', 'Israel',\n",
       "       'Serbia', 'Luxembourg', 'Trinidad and Tobago', 'Ethiopia',\n",
       "       'Rwanda', 'Somalia', 'Panama', 'Ukraine', 'Kuwait', 'El Salvador',\n",
       "       'Palestinian Territory', 'Papua New Guinea', 'Nicaragua', 'Jersey',\n",
       "       'Bolivia', 'Bahrain', 'Cambodia', 'British Virgin Islands',\n",
       "       'Algeria', 'Uzbekistan', 'Kosovo', 'Albania', 'Myanmar', 'Monaco',\n",
       "       'Jamaika', 'Paraguay', 'Tanzania', 'Liberia', 'Cayman Islands',\n",
       "       'Gabon', 'Seychelles', 'Fiji', 'Laos', 'Maldives', 'Ghana',\n",
       "       'Mauritius', 'Gibraltar', 'Zimbabwe', 'Armenia', 'Latvia',\n",
       "       'Kiribati', 'Lithuania', 'Madagascar', 'The Gambia', 'Syria',\n",
       "       'Romania', 'Sierra Leone', 'Burkina Faso', 'Estonia', 'Jordan',\n",
       "       'Vietnam', 'Slovenia', 'Tajikistan', \"Côte d'Ivoire\", 'Grenada',\n",
       "       'Republic of the Congo', 'Democratic Republic of the Congo',\n",
       "       'Senegal', 'Yemen', 'Croatia', 'Congo-Brazzaville', 'Libya',\n",
       "       'North Korea', 'Tonga', 'Oman', 'Moldova', 'Haiti', 'Angola',\n",
       "       'Djibouti', 'Falkland Islands', 'The Bahamas', 'Vatican City',\n",
       "       'Montenegro', 'Bulgaria', 'Zambia', 'Suriname', 'North Macedonia',\n",
       "       'Hong Kong', 'Guinea', 'Saint Kitts and Nevis', 'Bahamas',\n",
       "       'Puerto Rico', 'Dominica', 'Vanuatu', 'Namibia', 'Kazakhstan',\n",
       "       'Belize', 'Cape Verde', 'Benin', 'Northern Mariana Islands',\n",
       "       'Congo', 'Isle of Man', 'Turks and Caicos Islands', 'Anguilla',\n",
       "       'Belarus', 'South Sudan', 'Federated States of Micronesia',\n",
       "       'Faroe Islands', 'Antigua and Barbuda', 'Samoa'], dtype=object)"
      ]
     },
     "execution_count": 45,
     "metadata": {},
     "output_type": "execute_result"
    }
   ],
   "source": [
    "trump_df['country'].unique()"
   ]
  },
  {
   "cell_type": "code",
   "execution_count": 46,
   "metadata": {},
   "outputs": [
    {
     "data": {
      "text/html": [
       "<div>\n",
       "<style scoped>\n",
       "    .dataframe tbody tr th:only-of-type {\n",
       "        vertical-align: middle;\n",
       "    }\n",
       "\n",
       "    .dataframe tbody tr th {\n",
       "        vertical-align: top;\n",
       "    }\n",
       "\n",
       "    .dataframe thead th {\n",
       "        text-align: right;\n",
       "    }\n",
       "</style>\n",
       "<table border=\"1\" class=\"dataframe\">\n",
       "  <thead>\n",
       "    <tr style=\"text-align: right;\">\n",
       "      <th></th>\n",
       "      <th>created_at</th>\n",
       "      <th>tweet</th>\n",
       "      <th>likes</th>\n",
       "      <th>retweet_count</th>\n",
       "      <th>user_followers_count</th>\n",
       "      <th>user_location</th>\n",
       "      <th>country</th>\n",
       "      <th>continent</th>\n",
       "      <th>state</th>\n",
       "      <th>state_code</th>\n",
       "      <th>collected_at</th>\n",
       "    </tr>\n",
       "  </thead>\n",
       "  <tbody>\n",
       "    <tr>\n",
       "      <th>0</th>\n",
       "      <td>2020-10-15 00:00:01</td>\n",
       "      <td>#Elecciones2020 | En #Florida: #JoeBiden dice ...</td>\n",
       "      <td>0.0</td>\n",
       "      <td>0.0</td>\n",
       "      <td>1860.0</td>\n",
       "      <td>Philadelphia, PA / Miami, FL</td>\n",
       "      <td>United States of America</td>\n",
       "      <td>North America</td>\n",
       "      <td>Florida</td>\n",
       "      <td>FL</td>\n",
       "      <td>2020-10-21 00:00:00</td>\n",
       "    </tr>\n",
       "    <tr>\n",
       "      <th>2</th>\n",
       "      <td>2020-10-15 00:00:02</td>\n",
       "      <td>#Trump: As a student I used to hear for years,...</td>\n",
       "      <td>2.0</td>\n",
       "      <td>1.0</td>\n",
       "      <td>1185.0</td>\n",
       "      <td>Portland</td>\n",
       "      <td>United States of America</td>\n",
       "      <td>North America</td>\n",
       "      <td>Oregon</td>\n",
       "      <td>OR</td>\n",
       "      <td>2020-10-21 00:00:00.746433060</td>\n",
       "    </tr>\n",
       "    <tr>\n",
       "      <th>4</th>\n",
       "      <td>2020-10-15 00:00:08</td>\n",
       "      <td>You get a tie! And you get a tie! #Trump ‘s ra...</td>\n",
       "      <td>4.0</td>\n",
       "      <td>3.0</td>\n",
       "      <td>5393.0</td>\n",
       "      <td>Washington DC</td>\n",
       "      <td>United States of America</td>\n",
       "      <td>North America</td>\n",
       "      <td>District of Columbia</td>\n",
       "      <td>DC</td>\n",
       "      <td>2020-10-21 00:00:01.492866121</td>\n",
       "    </tr>\n",
       "    <tr>\n",
       "      <th>5</th>\n",
       "      <td>2020-10-15 00:00:17</td>\n",
       "      <td>@CLady62 Her 15 minutes were over long time ag...</td>\n",
       "      <td>2.0</td>\n",
       "      <td>0.0</td>\n",
       "      <td>2363.0</td>\n",
       "      <td>Perris,California</td>\n",
       "      <td>United States of America</td>\n",
       "      <td>North America</td>\n",
       "      <td>California</td>\n",
       "      <td>CA</td>\n",
       "      <td>2020-10-21 00:00:01.866082651</td>\n",
       "    </tr>\n",
       "    <tr>\n",
       "      <th>7</th>\n",
       "      <td>2020-10-15 00:00:18</td>\n",
       "      <td>@DeeviousDenise @realDonaldTrump @nypost There...</td>\n",
       "      <td>0.0</td>\n",
       "      <td>0.0</td>\n",
       "      <td>766.0</td>\n",
       "      <td>Ohio, USA</td>\n",
       "      <td>United States of America</td>\n",
       "      <td>North America</td>\n",
       "      <td>Ohio</td>\n",
       "      <td>OH</td>\n",
       "      <td>2020-10-21 00:00:02.612515712</td>\n",
       "    </tr>\n",
       "    <tr>\n",
       "      <th>...</th>\n",
       "      <td>...</td>\n",
       "      <td>...</td>\n",
       "      <td>...</td>\n",
       "      <td>...</td>\n",
       "      <td>...</td>\n",
       "      <td>...</td>\n",
       "      <td>...</td>\n",
       "      <td>...</td>\n",
       "      <td>...</td>\n",
       "      <td>...</td>\n",
       "      <td>...</td>\n",
       "    </tr>\n",
       "    <tr>\n",
       "      <th>970893</th>\n",
       "      <td>2020-11-08 23:58:46</td>\n",
       "      <td>@DonaldJTrumpJr Being a #tRump you are intimat...</td>\n",
       "      <td>0.0</td>\n",
       "      <td>0.0</td>\n",
       "      <td>29.0</td>\n",
       "      <td>New Jersey, USA</td>\n",
       "      <td>United States of America</td>\n",
       "      <td>North America</td>\n",
       "      <td>New Jersey</td>\n",
       "      <td>NJ</td>\n",
       "      <td>2020-11-09 17:47:55.744839</td>\n",
       "    </tr>\n",
       "    <tr>\n",
       "      <th>970895</th>\n",
       "      <td>2020-11-08 23:58:51</td>\n",
       "      <td>Have you know decency #Trump  @GOP? Do you kno...</td>\n",
       "      <td>3.0</td>\n",
       "      <td>0.0</td>\n",
       "      <td>3024.0</td>\n",
       "      <td>New York, USA</td>\n",
       "      <td>United States of America</td>\n",
       "      <td>North America</td>\n",
       "      <td>New York</td>\n",
       "      <td>NY</td>\n",
       "      <td>2020-11-09 17:47:55.833725</td>\n",
       "    </tr>\n",
       "    <tr>\n",
       "      <th>970897</th>\n",
       "      <td>2020-11-08 23:58:56</td>\n",
       "      <td>LIONZ DEN PRESENTS TO YOU \\n\\n“THE WHITE OBAMA...</td>\n",
       "      <td>1.0</td>\n",
       "      <td>0.0</td>\n",
       "      <td>674.0</td>\n",
       "      <td>Minnesota, USA</td>\n",
       "      <td>United States of America</td>\n",
       "      <td>North America</td>\n",
       "      <td>Minnesota</td>\n",
       "      <td>MN</td>\n",
       "      <td>2020-11-09 17:47:55.847439</td>\n",
       "    </tr>\n",
       "    <tr>\n",
       "      <th>970900</th>\n",
       "      <td>2020-11-08 23:59:05</td>\n",
       "      <td>#Trump #Patriots #MAGA2020 https://t.co/2A8Fnm...</td>\n",
       "      <td>0.0</td>\n",
       "      <td>0.0</td>\n",
       "      <td>11.0</td>\n",
       "      <td>Hell on Earth</td>\n",
       "      <td>United States of America</td>\n",
       "      <td>North America</td>\n",
       "      <td>Texas</td>\n",
       "      <td>TX</td>\n",
       "      <td>2020-11-09 17:47:55.939901</td>\n",
       "    </tr>\n",
       "    <tr>\n",
       "      <th>970905</th>\n",
       "      <td>2020-11-08 23:59:21</td>\n",
       "      <td>Again with the lying, cheating, b.s. #LoserTru...</td>\n",
       "      <td>0.0</td>\n",
       "      <td>0.0</td>\n",
       "      <td>1197.0</td>\n",
       "      <td>South Florida</td>\n",
       "      <td>United States of America</td>\n",
       "      <td>North America</td>\n",
       "      <td>Kansas</td>\n",
       "      <td>KS</td>\n",
       "      <td>2020-11-09 17:47:56.062661</td>\n",
       "    </tr>\n",
       "  </tbody>\n",
       "</table>\n",
       "<p>213263 rows × 11 columns</p>\n",
       "</div>"
      ],
      "text/plain": [
       "                 created_at  \\\n",
       "0       2020-10-15 00:00:01   \n",
       "2       2020-10-15 00:00:02   \n",
       "4       2020-10-15 00:00:08   \n",
       "5       2020-10-15 00:00:17   \n",
       "7       2020-10-15 00:00:18   \n",
       "...                     ...   \n",
       "970893  2020-11-08 23:58:46   \n",
       "970895  2020-11-08 23:58:51   \n",
       "970897  2020-11-08 23:58:56   \n",
       "970900  2020-11-08 23:59:05   \n",
       "970905  2020-11-08 23:59:21   \n",
       "\n",
       "                                                    tweet  likes  \\\n",
       "0       #Elecciones2020 | En #Florida: #JoeBiden dice ...    0.0   \n",
       "2       #Trump: As a student I used to hear for years,...    2.0   \n",
       "4       You get a tie! And you get a tie! #Trump ‘s ra...    4.0   \n",
       "5       @CLady62 Her 15 minutes were over long time ag...    2.0   \n",
       "7       @DeeviousDenise @realDonaldTrump @nypost There...    0.0   \n",
       "...                                                   ...    ...   \n",
       "970893  @DonaldJTrumpJr Being a #tRump you are intimat...    0.0   \n",
       "970895  Have you know decency #Trump  @GOP? Do you kno...    3.0   \n",
       "970897  LIONZ DEN PRESENTS TO YOU \\n\\n“THE WHITE OBAMA...    1.0   \n",
       "970900  #Trump #Patriots #MAGA2020 https://t.co/2A8Fnm...    0.0   \n",
       "970905  Again with the lying, cheating, b.s. #LoserTru...    0.0   \n",
       "\n",
       "        retweet_count  user_followers_count                 user_location  \\\n",
       "0                 0.0                1860.0  Philadelphia, PA / Miami, FL   \n",
       "2                 1.0                1185.0                      Portland   \n",
       "4                 3.0                5393.0                 Washington DC   \n",
       "5                 0.0                2363.0             Perris,California   \n",
       "7                 0.0                 766.0                     Ohio, USA   \n",
       "...               ...                   ...                           ...   \n",
       "970893            0.0                  29.0               New Jersey, USA   \n",
       "970895            0.0                3024.0                 New York, USA   \n",
       "970897            0.0                 674.0                Minnesota, USA   \n",
       "970900            0.0                  11.0                 Hell on Earth   \n",
       "970905            0.0                1197.0                 South Florida   \n",
       "\n",
       "                         country      continent                 state  \\\n",
       "0       United States of America  North America               Florida   \n",
       "2       United States of America  North America                Oregon   \n",
       "4       United States of America  North America  District of Columbia   \n",
       "5       United States of America  North America            California   \n",
       "7       United States of America  North America                  Ohio   \n",
       "...                          ...            ...                   ...   \n",
       "970893  United States of America  North America            New Jersey   \n",
       "970895  United States of America  North America              New York   \n",
       "970897  United States of America  North America             Minnesota   \n",
       "970900  United States of America  North America                 Texas   \n",
       "970905  United States of America  North America                Kansas   \n",
       "\n",
       "       state_code                   collected_at  \n",
       "0              FL            2020-10-21 00:00:00  \n",
       "2              OR  2020-10-21 00:00:00.746433060  \n",
       "4              DC  2020-10-21 00:00:01.492866121  \n",
       "5              CA  2020-10-21 00:00:01.866082651  \n",
       "7              OH  2020-10-21 00:00:02.612515712  \n",
       "...           ...                            ...  \n",
       "970893         NJ     2020-11-09 17:47:55.744839  \n",
       "970895         NY     2020-11-09 17:47:55.833725  \n",
       "970897         MN     2020-11-09 17:47:55.847439  \n",
       "970900         TX     2020-11-09 17:47:55.939901  \n",
       "970905         KS     2020-11-09 17:47:56.062661  \n",
       "\n",
       "[213263 rows x 11 columns]"
      ]
     },
     "execution_count": 46,
     "metadata": {},
     "output_type": "execute_result"
    }
   ],
   "source": [
    "trump_usa = trump_df[trump_df[\"country\"].isin([\"United States of America\", \"United States\"])]\n",
    "trump_usa"
   ]
  },
  {
   "cell_type": "code",
   "execution_count": 47,
   "metadata": {},
   "outputs": [
    {
     "data": {
      "text/plain": [
       "created_at              0.000000\n",
       "tweet                   0.000000\n",
       "likes                   0.000000\n",
       "retweet_count           0.000000\n",
       "user_followers_count    0.000000\n",
       "user_location           0.000000\n",
       "country                 0.000000\n",
       "continent               0.000000\n",
       "state                   0.161191\n",
       "state_code              0.161191\n",
       "collected_at            0.000000\n",
       "dtype: float64"
      ]
     },
     "execution_count": 47,
     "metadata": {},
     "output_type": "execute_result"
    }
   ],
   "source": [
    "trump_usa.apply(lambda x: x.isna().sum()/len(x), axis=0)"
   ]
  },
  {
   "cell_type": "code",
   "execution_count": 50,
   "metadata": {},
   "outputs": [
    {
     "name": "stderr",
     "output_type": "stream",
     "text": [
      "C:\\Users\\ReDI\\AppData\\Local\\Temp\\ipykernel_9836\\1987210078.py:1: SettingWithCopyWarning: \n",
      "A value is trying to be set on a copy of a slice from a DataFrame\n",
      "\n",
      "See the caveats in the documentation: https://pandas.pydata.org/pandas-docs/stable/user_guide/indexing.html#returning-a-view-versus-a-copy\n",
      "  trump_usa.drop(['state', 'state_code'], axis=1,inplace=True)\n"
     ]
    }
   ],
   "source": [
    "trump_usa.drop(['state', 'state_code'], axis=1,inplace=True)"
   ]
  },
  {
   "cell_type": "code",
   "execution_count": 51,
   "metadata": {},
   "outputs": [
    {
     "name": "stdout",
     "output_type": "stream",
     "text": [
      "<class 'pandas.core.frame.DataFrame'>\n",
      "Index: 213263 entries, 0 to 970905\n",
      "Data columns (total 9 columns):\n",
      " #   Column                Non-Null Count   Dtype  \n",
      "---  ------                --------------   -----  \n",
      " 0   created_at            213263 non-null  object \n",
      " 1   tweet                 213263 non-null  object \n",
      " 2   likes                 213263 non-null  float64\n",
      " 3   retweet_count         213263 non-null  float64\n",
      " 4   user_followers_count  213263 non-null  float64\n",
      " 5   user_location         213263 non-null  object \n",
      " 6   country               213263 non-null  object \n",
      " 7   continent             213263 non-null  object \n",
      " 8   collected_at          213263 non-null  object \n",
      "dtypes: float64(3), object(6)\n",
      "memory usage: 16.3+ MB\n"
     ]
    }
   ],
   "source": [
    "trump_usa.info()"
   ]
  },
  {
   "cell_type": "code",
   "execution_count": 52,
   "metadata": {},
   "outputs": [
    {
     "data": {
      "text/plain": [
       "array(['North America', 'Oceania'], dtype=object)"
      ]
     },
     "execution_count": 52,
     "metadata": {},
     "output_type": "execute_result"
    }
   ],
   "source": [
    "trump_usa['continent'].unique()"
   ]
  },
  {
   "cell_type": "code",
   "execution_count": null,
   "metadata": {},
   "outputs": [],
   "source": []
  }
 ],
 "metadata": {
  "kernelspec": {
   "display_name": "Python 3",
   "language": "python",
   "name": "python3"
  },
  "language_info": {
   "codemirror_mode": {
    "name": "ipython",
    "version": 3
   },
   "file_extension": ".py",
   "mimetype": "text/x-python",
   "name": "python",
   "nbconvert_exporter": "python",
   "pygments_lexer": "ipython3",
   "version": "3.12.6"
  }
 },
 "nbformat": 4,
 "nbformat_minor": 2
}
